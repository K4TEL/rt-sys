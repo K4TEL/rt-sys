{
 "cells": [
  {
   "cell_type": "code",
   "execution_count": 1,
   "id": "8d25515b",
   "metadata": {},
   "outputs": [
    {
     "name": "stdout",
     "output_type": "stream",
     "text": [
      "iperf 3.9 (cJSON 1.7.13)\r\n",
      "Linux k4tel 5.19.0-38-generic #39~22.04.1-Ubuntu SMP PREEMPT_DYNAMIC Fri Mar 17 21:16:15 UTC 2 x86_64\r\n",
      "Optional features available: CPU affinity setting, IPv6 flow label, SCTP, TCP congestion algorithm setting, sendfile / zerocopy, socket pacing, authentication\r\n"
     ]
    }
   ],
   "source": [
    "!iperf3 --version"
   ]
  },
  {
   "cell_type": "code",
   "execution_count": 2,
   "id": "a03724fd",
   "metadata": {},
   "outputs": [],
   "source": [
    "# start the deamon server\n",
    "!iperf3 -s -B 192.168.0.102 -p 5201 -D"
   ]
  },
  {
   "cell_type": "code",
   "execution_count": 3,
   "id": "aaf4cb8e",
   "metadata": {
    "scrolled": true
   },
   "outputs": [
    {
     "name": "stdout",
     "output_type": "stream",
     "text": [
      "iperf 3.9\n",
      "Linux k4tel 5.19.0-38-generic #39~22.04.1-Ubuntu SMP PREEMPT_DYNAMIC Fri Mar 17 21:16:15 UTC 2 x86_64\n",
      "Control connection MSS 32768\n",
      "Time: Fri, 31 Mar 2023 01:23:10 GMT\n",
      "Connecting to host 192.168.0.102, port 5201\n",
      "      Cookie: ccym2qehke6425xirs24qky7qo3ttheehcrv\n",
      "      TCP MSS: 32768 (default)\n",
      "[  5] local 192.168.0.102 port 60394 connected to 192.168.0.102 port 5201\n",
      "Starting Test: protocol: TCP, 1 streams, 131072 byte blocks, omitting 0 seconds, 1 second test, tos 0\n",
      "[ ID] Interval           Transfer     Bitrate         Retr  Cwnd\n",
      "[  5]   0.00-1.00   sec  4.41 GBytes  37.9 Gbits/sec    0   2.37 MBytes       \n",
      "- - - - - - - - - - - - - - - - - - - - - - - - -\n",
      "Test Complete. Summary Results:\n",
      "[ ID] Interval           Transfer     Bitrate         Retr\n",
      "[  5]   0.00-1.00   sec  4.41 GBytes  37.9 Gbits/sec    0             sender\n",
      "[  5]   0.00-1.04   sec  4.41 GBytes  36.5 Gbits/sec                  receiver\n",
      "CPU Utilization: local/sender 94.0% (3.7%u/90.3%s), remote/receiver 69.4% (11.0%u/58.4%s)\n",
      "snd_tcp_congestion cubic\n",
      "rcv_tcp_congestion cubic\n",
      "\n",
      "iperf Done.\n"
     ]
    }
   ],
   "source": [
    "# testing client-server connection\n",
    "!iperf3 -c 192.168.0.102 -p 5201 -V -t 1"
   ]
  },
  {
   "cell_type": "code",
   "execution_count": 4,
   "id": "ecbc3147",
   "metadata": {},
   "outputs": [],
   "source": [
    "import subprocess\n",
    "from parser import *"
   ]
  },
  {
   "cell_type": "code",
   "execution_count": 5,
   "id": "8d2ef90b",
   "metadata": {},
   "outputs": [],
   "source": [
    "def client(server_ip, server_port, params=[]):\n",
    "    prompt = ['iperf3', '-c', server_ip,'-p', server_port] + params\n",
    "    process = subprocess.Popen(prompt, stdout=subprocess.PIPE, stderr=subprocess.PIPE, encoding='utf-8')\n",
    "    stdout, stderr = process.communicate()\n",
    "    return stdout, stderr"
   ]
  },
  {
   "cell_type": "code",
   "execution_count": 6,
   "id": "05bfc978",
   "metadata": {},
   "outputs": [],
   "source": [
    "# get local machine hostname \n",
    "server_ip = subprocess.getoutput('hostname -I').strip()\n",
    "server_port = \"5201\"\n",
    "\n",
    "# client test duration\n",
    "client_time = 60\n",
    "# possible client test flags\n",
    "client_flags = [\"--udp\", \"-V\", \"-t\", str(client_time)]\n",
    "\n",
    "parser_headers = ['Interval', 'Transfer', 'Bitrate', 'Retr', 'Cwnd']"
   ]
  },
  {
   "cell_type": "code",
   "execution_count": 7,
   "id": "cf40a23a",
   "metadata": {
    "scrolled": true
   },
   "outputs": [
    {
     "name": "stdout",
     "output_type": "stream",
     "text": [
      "Connecting to host 192.168.0.102, port 5201\n",
      "[  5] local 192.168.0.102 port 60408 connected to 192.168.0.102 port 5201\n",
      "[ ID] Interval           Transfer     Bitrate         Retr  Cwnd\n",
      "[  5]   0.00-1.00   sec  4.58 GBytes  39.4 Gbits/sec    0   2.12 MBytes       \n",
      "- - - - - - - - - - - - - - - - - - - - - - - - -\n",
      "[ ID] Interval           Transfer     Bitrate         Retr\n",
      "[  5]   0.00-1.00   sec  4.58 GBytes  39.4 Gbits/sec    0             sender\n",
      "[  5]   0.00-1.04   sec  4.58 GBytes  37.8 Gbits/sec                  receiver\n",
      "\n",
      "iperf Done.\n"
     ]
    }
   ],
   "source": [
    "# test using only time setting in flags\n",
    "!iperf3 -c 192.168.0.102 -p 5201 -t 1"
   ]
  },
  {
   "cell_type": "code",
   "execution_count": 8,
   "id": "2695a674",
   "metadata": {
    "scrolled": true
   },
   "outputs": [
    {
     "name": "stdout",
     "output_type": "stream",
     "text": [
      "Headers of the output data: Interval, Transfer, Bitrate, Retr, Cwnd\n",
      "Percentage of matching conditions Transfer > 2 & Bitrate > 20:\t100.0%\n",
      "       Interval   Transfer    Bitrate  Retr       Cwnd\n",
      "count      60.0  60.000000  60.000000  60.0  60.000000\n",
      "mean        1.0   4.568000  39.226667   0.0   4.380833\n",
      "std         0.0   0.323774   2.781468   0.0   0.608845\n",
      "min         1.0   3.250000  27.900000   0.0   2.000000\n",
      "25%         1.0   4.390000  37.700000   0.0   4.560000\n",
      "50%         1.0   4.625000  39.700000   0.0   4.560000\n",
      "75%         1.0   4.792500  41.200000   0.0   4.560000\n",
      "max         1.0   5.090000  43.700000   0.0   4.560000\n"
     ]
    }
   ],
   "source": [
    "# using only time setting in flags\n",
    "result, error = client(server_ip, server_port, client_flags[2:])\n",
    "\n",
    "if error:\n",
    "    print(error)\n",
    "else:\n",
    "    # standard parser headers in the output\n",
    "    result_table = parser(result, client_time, parser_headers)\n",
    "    condition_matches = result_table.loc[(result_table.Transfer > 2) & (result_table.Bitrate > 20), :]\n",
    "    print(f\"Percentage of matching conditions Transfer > 2 & Bitrate > 20:\\t\" \n",
    "        f\"{100 * len(condition_matches.index)/len(result_table.index)}%\")\n",
    "    # analysis of the parsed numerical data\n",
    "    print(result_table.describe())"
   ]
  },
  {
   "cell_type": "code",
   "execution_count": 9,
   "id": "b5aa0804",
   "metadata": {
    "scrolled": true
   },
   "outputs": [
    {
     "name": "stdout",
     "output_type": "stream",
     "text": [
      "iperf 3.9\n",
      "Linux k4tel 5.19.0-38-generic #39~22.04.1-Ubuntu SMP PREEMPT_DYNAMIC Fri Mar 17 21:16:15 UTC 2 x86_64\n",
      "Control connection MSS 32768\n",
      "Setting UDP block size to 32768\n",
      "Time: Fri, 31 Mar 2023 01:24:13 GMT\n",
      "Connecting to host 192.168.0.102, port 5201\n",
      "      Cookie: vbhx5wjwfvgwhkghysozlu4dsjq35ozbhsgu\n",
      "      Target Bitrate: 1048576\n",
      "[  5] local 192.168.0.102 port 45271 connected to 192.168.0.102 port 5201\n",
      "Starting Test: protocol: UDP, 1 streams, 32768 byte blocks, omitting 0 seconds, 1 second test, tos 0\n",
      "[ ID] Interval           Transfer     Bitrate         Total Datagrams\n",
      "[  5]   0.00-1.00   sec   128 KBytes  1.05 Mbits/sec  4  \n",
      "- - - - - - - - - - - - - - - - - - - - - - - - -\n",
      "Test Complete. Summary Results:\n",
      "[ ID] Interval           Transfer     Bitrate         Jitter    Lost/Total Datagrams\n",
      "[  5]   0.00-1.00   sec   128 KBytes  1.05 Mbits/sec  0.000 ms  0/4 (0%)  sender\n",
      "[  5]   0.00-1.04   sec   128 KBytes  1.00 Mbits/sec  0.010 ms  0/4 (0%)  receiver\n",
      "CPU Utilization: local/sender 7.7% (2.1%u/5.6%s), remote/receiver 0.1% (0.0%u/0.1%s)\n",
      "\n",
      "iperf Done.\n"
     ]
    }
   ],
   "source": [
    "# test using time setting, extra verbose, and bidirectional testing in flags\n",
    "!iperf3 -c 192.168.0.102 -p 5201 -V --udp -t 1"
   ]
  },
  {
   "cell_type": "code",
   "execution_count": 10,
   "id": "56b19ba3",
   "metadata": {},
   "outputs": [
    {
     "name": "stdout",
     "output_type": "stream",
     "text": [
      "Headers of the output data: Interval, Transfer, Bitrate, Total Datagrams\n",
      "Percentage of matching conditions Transfer > 2 & Bitrate > 20:\t0.0%\n",
      "       Interval  Transfer       Bitrate  Total Datagrams\n",
      "count      60.0      60.0  6.000000e+01             60.0\n",
      "mean        1.0     128.0  1.050000e+00              4.0\n",
      "std         0.0       0.0  2.239184e-16              0.0\n",
      "min         1.0     128.0  1.050000e+00              4.0\n",
      "25%         1.0     128.0  1.050000e+00              4.0\n",
      "50%         1.0     128.0  1.050000e+00              4.0\n",
      "75%         1.0     128.0  1.050000e+00              4.0\n",
      "max         1.0     128.0  1.050000e+00              4.0\n"
     ]
    }
   ],
   "source": [
    "# using time setting and bidirectional testing in flags\n",
    "result, error = client(server_ip, server_port, client_flags)\n",
    "\n",
    "if error:\n",
    "    print(error)\n",
    "else:\n",
    "    # uncommon parser headers in the output\n",
    "    result_table = parser(result, client_time)\n",
    "    condition_matches = result_table.loc[(result_table.Transfer > 2) & (result_table.Bitrate > 20), :]\n",
    "    print(f\"Percentage of matching conditions Transfer > 2 & Bitrate > 20:\\t\" \n",
    "        f\"{100 * len(condition_matches.index)/len(result_table.index)}%\")\n",
    "    # analysis of the parsed numerical data\n",
    "    print(result_table.describe())"
   ]
  },
  {
   "cell_type": "code",
   "execution_count": 11,
   "id": "4e7aaa7d",
   "metadata": {},
   "outputs": [],
   "source": [
    "# shut down the server\n",
    "!killall iperf3"
   ]
  }
 ],
 "metadata": {
  "kernelspec": {
   "display_name": "Python 3 (ipykernel)",
   "language": "python",
   "name": "python3"
  },
  "language_info": {
   "codemirror_mode": {
    "name": "ipython",
    "version": 3
   },
   "file_extension": ".py",
   "mimetype": "text/x-python",
   "name": "python",
   "nbconvert_exporter": "python",
   "pygments_lexer": "ipython3",
   "version": "3.10.6"
  }
 },
 "nbformat": 4,
 "nbformat_minor": 5
}
