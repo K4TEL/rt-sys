{
 "cells": [
  {
   "cell_type": "code",
   "execution_count": 1,
   "id": "8d25515b",
   "metadata": {},
   "outputs": [
    {
     "name": "stdout",
     "output_type": "stream",
     "text": [
      "pytest 7.2.2\n",
      "iperf 3.9 (cJSON 1.7.13)\n",
      "Linux k4tel 5.19.0-38-generic #39~22.04.1-Ubuntu SMP PREEMPT_DYNAMIC Fri Mar 17 21:16:15 UTC 2 x86_64\n",
      "Optional features available: CPU affinity setting, IPv6 flow label, SCTP, TCP congestion algorithm setting, sendfile / zerocopy, socket pacing, authentication\n",
      "net-tools 2.10-alpha\n",
      "Fred Baumgarten, Alan Cox, Bernd Eckenfels, Phil Blundell, Tuan Hoang, Brian Micek and others\n",
      "+NEW_ADDRT +RTF_IRTT +RTF_REJECT +FW_MASQUERADE +I18N +SELINUX\n",
      "AF: (inet) +UNIX +INET +INET6 +IPX +AX25 +NETROM +X25 +ATALK +ECONET +ROSE -BLUETOOTH\n",
      "HW:  +ETHER +ARC +SLIP +PPP +TUNNEL -TR +AX25 +NETROM +X25 +FR +ROSE +ASH +SIT +FDDI +HIPPI +HDLC/LAPB +EUI64 \n"
     ]
    }
   ],
   "source": [
    "!pytest --version\n",
    "!iperf3 --version\n",
    "!netstat --version"
   ]
  },
  {
   "cell_type": "code",
   "execution_count": 2,
   "id": "b3b2bd84",
   "metadata": {},
   "outputs": [
    {
     "name": "stdout",
     "output_type": "stream",
     "text": [
      "lo               UNKNOWN        127.0.0.1/8 ::1/128 \r\n",
      "enp0s31f6        DOWN           \r\n",
      "wlp4s0           UP             192.168.0.102/24 fe80::e76b:6cb0:42e9:5bd0/64 \r\n",
      "virbr0           DOWN           192.168.122.1/24 \r\n"
     ]
    }
   ],
   "source": [
    "# show local ip adresses\n",
    "!ip --brief addr show "
   ]
  },
  {
   "cell_type": "code",
   "execution_count": 3,
   "id": "0c7e94d2",
   "metadata": {
    "scrolled": true
   },
   "outputs": [],
   "source": [
    "import pytest\n",
    "from iperf_test import *\n",
    "from parser import *\n",
    "from conftest import *"
   ]
  },
  {
   "cell_type": "code",
   "execution_count": 4,
   "id": "760f3387",
   "metadata": {},
   "outputs": [
    {
     "data": {
      "text/plain": [
       "(['::1', '127.0.0.1', '192.168.0.102', '192.168.122.1'],\n",
       " [['iperf3', '-c', '192.168.0.102', '-p', '5201', '-t', '10'],\n",
       "  ['iperf3', '-c', '192.168.0.102', '-p', '5201', '-t', '20'],\n",
       "  ['iperf3', '-c', '192.168.0.102', '-p', '5201', '-t', '30'],\n",
       "  ['iperf3', '-c', '192.168.0.102', '-p', '5201', '-t', '40'],\n",
       "  ['iperf3', '-c', '192.168.0.102', '-p', '5201', '-t', '50']],\n",
       " [\"netstat -tnlp | grep 5201 | awk '{print $4}'\",\n",
       "  \"netstat -tnlp | grep iperf3 | awk '{print $4}'\"])"
      ]
     },
     "execution_count": 4,
     "metadata": {},
     "output_type": "execute_result"
    }
   ],
   "source": [
    "host_list, traffic_prompts, ssh_prompts"
   ]
  },
  {
   "cell_type": "code",
   "execution_count": 5,
   "id": "e2dc98d8",
   "metadata": {},
   "outputs": [
    {
     "name": "stdout",
     "output_type": "stream",
     "text": [
      "\u001b[1m============================= test session starts ==============================\u001b[0m\n",
      "platform linux -- Python 3.10.6, pytest-7.2.2, pluggy-1.0.0 -- /home/k/Documents/jn-env/jn-env/bin/python\n",
      "cachedir: .pytest_cache\n",
      "rootdir: /home/k/Documents/jn-env\n",
      "plugins: anyio-3.6.2\n",
      "\u001b[1mcollecting ... \u001b[0mcollected 40 items\n",
      "\n",
      "iperf_test.py::TestSuite::test_ssh_client[::1] \u001b[32mPASSED\u001b[0m\u001b[32m                    [  2%]\u001b[0m\n",
      "iperf_test.py::TestSuite::test_server[::1] \u001b[32mPASSED\u001b[0m\u001b[32m                        [  5%]\u001b[0m\n",
      "iperf_test.py::TestSuite::test_ssh_servers[::1-netstat -tnlp | grep 5201 | awk '{print $4}'] \u001b[32mPASSED\u001b[0m\u001b[32m [  7%]\u001b[0m\n",
      "iperf_test.py::TestSuite::test_ssh_servers[127.0.0.1-netstat -tnlp | grep 5201 | awk '{print $4}'] \u001b[32mPASSED\u001b[0m\u001b[32m [ 10%]\u001b[0m\n",
      "iperf_test.py::TestSuite::test_ssh_client[127.0.0.1] \u001b[32mPASSED\u001b[0m\u001b[32m              [ 12%]\u001b[0m\n",
      "iperf_test.py::TestSuite::test_server[127.0.0.1] \u001b[32mPASSED\u001b[0m\u001b[32m                  [ 15%]\u001b[0m\n",
      "iperf_test.py::TestSuite::test_ssh_servers[127.0.0.1-netstat -tnlp | grep iperf3 | awk '{print $4}'] \u001b[32mPASSED\u001b[0m\u001b[32m [ 17%]\u001b[0m\n",
      "iperf_test.py::TestSuite::test_ssh_servers[::1-netstat -tnlp | grep iperf3 | awk '{print $4}'] \u001b[32mPASSED\u001b[0m\u001b[32m [ 20%]\u001b[0m\n",
      "iperf_test.py::TestSuite::test_ssh_servers[192.168.0.102-netstat -tnlp | grep iperf3 | awk '{print $4}'] \u001b[32mPASSED\u001b[0m\u001b[32m [ 22%]\u001b[0m\n",
      "iperf_test.py::TestSuite::test_ssh_servers[192.168.0.102-netstat -tnlp | grep 5201 | awk '{print $4}'] \u001b[32mPASSED\u001b[0m\u001b[32m [ 25%]\u001b[0m\n",
      "iperf_test.py::TestSuite::test_ssh_client[192.168.0.102] \u001b[32mPASSED\u001b[0m\u001b[32m          [ 27%]\u001b[0m\n",
      "iperf_test.py::TestSuite::test_server[192.168.0.102] \u001b[32mPASSED\u001b[0m\u001b[32m              [ 30%]\u001b[0m\n",
      "iperf_test.py::TestSuite::test_iperf_client_connection[192.168.0.102] \u001b[32mPASSED\u001b[0m\u001b[32m [ 32%]\u001b[0m\n",
      "iperf_test.py::TestSuite::test_iperf_client_traffic[192.168.0.102-client0] \u001b[32mPASSED\u001b[0m\u001b[32m [ 35%]\u001b[0m\n",
      "iperf_test.py::TestSuite::test_iperf_client_traffic[127.0.0.1-client0] \u001b[32mPASSED\u001b[0m\u001b[32m [ 37%]\u001b[0m\n",
      "iperf_test.py::TestSuite::test_iperf_client_traffic[::1-client0] \u001b[32mPASSED\u001b[0m\u001b[32m  [ 40%]\u001b[0m\n",
      "iperf_test.py::TestSuite::test_iperf_client_traffic[192.168.122.1-client0] \u001b[32mPASSED\u001b[0m\u001b[32m [ 42%]\u001b[0m\n",
      "iperf_test.py::TestSuite::test_ssh_servers[192.168.122.1-netstat -tnlp | grep iperf3 | awk '{print $4}'] \u001b[32mPASSED\u001b[0m\u001b[32m [ 45%]\u001b[0m\n",
      "iperf_test.py::TestSuite::test_ssh_servers[192.168.122.1-netstat -tnlp | grep 5201 | awk '{print $4}'] \u001b[32mPASSED\u001b[0m\u001b[32m [ 47%]\u001b[0m\n",
      "iperf_test.py::TestSuite::test_ssh_client[192.168.122.1] \u001b[32mPASSED\u001b[0m\u001b[32m          [ 50%]\u001b[0m\n",
      "iperf_test.py::TestSuite::test_server[192.168.122.1] \u001b[32mPASSED\u001b[0m\u001b[32m              [ 52%]\u001b[0m\n",
      "iperf_test.py::TestSuite::test_iperf_client_connection[192.168.122.1] \u001b[32mPASSED\u001b[0m\u001b[32m [ 55%]\u001b[0m\n",
      "iperf_test.py::TestSuite::test_iperf_client_traffic[192.168.122.1-client1] \u001b[32mPASSED\u001b[0m\u001b[32m [ 57%]\u001b[0m\n",
      "iperf_test.py::TestSuite::test_iperf_client_traffic[192.168.0.102-client1] \u001b[32mPASSED\u001b[0m\u001b[32m [ 60%]\u001b[0m\n",
      "iperf_test.py::TestSuite::test_iperf_client_traffic[127.0.0.1-client1] \u001b[32mPASSED\u001b[0m\u001b[32m [ 62%]\u001b[0m\n",
      "iperf_test.py::TestSuite::test_iperf_client_traffic[::1-client1] \u001b[32mPASSED\u001b[0m\u001b[32m  [ 65%]\u001b[0m\n",
      "iperf_test.py::TestSuite::test_iperf_client_traffic[192.168.122.1-client2] \u001b[32mPASSED\u001b[0m\u001b[32m [ 67%]\u001b[0m\n",
      "iperf_test.py::TestSuite::test_iperf_client_traffic[192.168.0.102-client2] \u001b[32mPASSED\u001b[0m\u001b[32m [ 70%]\u001b[0m\n",
      "iperf_test.py::TestSuite::test_iperf_client_traffic[127.0.0.1-client2] \u001b[32mPASSED\u001b[0m\u001b[32m [ 72%]\u001b[0m\n",
      "iperf_test.py::TestSuite::test_iperf_client_traffic[::1-client2] \u001b[32mPASSED\u001b[0m\u001b[32m  [ 75%]\u001b[0m\n",
      "iperf_test.py::TestSuite::test_iperf_client_traffic[192.168.122.1-client3] \u001b[32mPASSED\u001b[0m\u001b[32m [ 77%]\u001b[0m\n",
      "iperf_test.py::TestSuite::test_iperf_client_traffic[192.168.0.102-client3] \u001b[32mPASSED\u001b[0m\u001b[32m [ 80%]\u001b[0m\n",
      "iperf_test.py::TestSuite::test_iperf_client_traffic[127.0.0.1-client3] \u001b[32mPASSED\u001b[0m\u001b[32m [ 82%]\u001b[0m\n",
      "iperf_test.py::TestSuite::test_iperf_client_traffic[::1-client3] \u001b[31mFAILED\u001b[0m\u001b[31m  [ 85%]\u001b[0m\n",
      "iperf_test.py::TestSuite::test_iperf_client_traffic[192.168.122.1-client4] \u001b[32mPASSED\u001b[0m\u001b[31m [ 87%]\u001b[0m\n",
      "iperf_test.py::TestSuite::test_iperf_client_traffic[192.168.0.102-client4] \u001b[32mPASSED\u001b[0m\u001b[31m [ 90%]\u001b[0m\n",
      "iperf_test.py::TestSuite::test_iperf_client_traffic[127.0.0.1-client4] \u001b[31mFAILED\u001b[0m\u001b[31m [ 92%]\u001b[0m\n",
      "iperf_test.py::TestSuite::test_iperf_client_traffic[::1-client4] \u001b[32mPASSED\u001b[0m\u001b[31m  [ 95%]\u001b[0m\n",
      "iperf_test.py::TestSuite::test_iperf_client_connection[127.0.0.1] \u001b[32mPASSED\u001b[0m\u001b[31m [ 97%]\u001b[0m\n",
      "iperf_test.py::TestSuite::test_iperf_client_connection[::1] \u001b[32mPASSED\u001b[0m\u001b[31m       [100%]\u001b[0m\n",
      "\n",
      "=================================== FAILURES ===================================\n",
      "\u001b[31m\u001b[1m_______________ TestSuite.test_iperf_client_traffic[::1-client3] _______________\u001b[0m\n",
      "\n",
      "self = <iperf_test.TestSuite object at 0x7ffa17606ec0>\n",
      "ssh_client = <paramiko.client.SSHClient object at 0x7ffa176ea770>\n",
      "server = [None, None]\n",
      "client = ('Connecting to host 192.168.0.102, port 5201\\n[  5] local 192.168.0.102 port 44382 connected to 192.168.0.102 port 52...      sender\\n[  5]   0.00-40.04  sec   140 GBytes  29.9 Gbits/sec                  receiver\\n\\niperf Done.\\n', '', 40)\n",
      "\n",
      "    \u001b[94mdef\u001b[39;49;00m \u001b[92mtest_iperf_client_traffic\u001b[39;49;00m(\u001b[96mself\u001b[39;49;00m, ssh_client, server, client):\u001b[90m\u001b[39;49;00m\n",
      "        result, error, client_time = client\u001b[90m\u001b[39;49;00m\n",
      "    \u001b[90m\u001b[39;49;00m\n",
      "        \u001b[94massert\u001b[39;49;00m error \u001b[95min\u001b[39;49;00m [\u001b[33m\"\u001b[39;49;00m\u001b[33m\"\u001b[39;49;00m, \u001b[94mNone\u001b[39;49;00m]\u001b[90m\u001b[39;49;00m\n",
      "    \u001b[90m\u001b[39;49;00m\n",
      "        \u001b[90m# standard parser headers in the output\u001b[39;49;00m\u001b[90m\u001b[39;49;00m\n",
      "        result_table = parser(result, client_time, parser_headers)\u001b[90m\u001b[39;49;00m\n",
      "        condition_matches = result_table.loc[(result_table.Transfer > \u001b[94m2\u001b[39;49;00m) & (result_table.Bitrate > \u001b[94m20\u001b[39;49;00m), :]\u001b[90m\u001b[39;49;00m\n",
      "        \u001b[96mprint\u001b[39;49;00m(\u001b[33mf\u001b[39;49;00m\u001b[33m\"\u001b[39;49;00m\u001b[33mPercentage of matching conditions Transfer > 2 & Bitrate > 20:\u001b[39;49;00m\u001b[33m\\t\u001b[39;49;00m\u001b[33m\"\u001b[39;49;00m\u001b[90m\u001b[39;49;00m\n",
      "            \u001b[33mf\u001b[39;49;00m\u001b[33m\"\u001b[39;49;00m\u001b[33m{\u001b[39;49;00m\u001b[94m100\u001b[39;49;00m\u001b[90m \u001b[39;49;00m*\u001b[90m \u001b[39;49;00m\u001b[96mlen\u001b[39;49;00m(condition_matches.index)/\u001b[96mlen\u001b[39;49;00m(result_table.index)\u001b[33m}\u001b[39;49;00m\u001b[33m%\u001b[39;49;00m\u001b[33m\"\u001b[39;49;00m)\u001b[90m\u001b[39;49;00m\n",
      ">       \u001b[94massert\u001b[39;49;00m \u001b[96mlen\u001b[39;49;00m(condition_matches.index) == \u001b[96mlen\u001b[39;49;00m(result_table.index)\u001b[90m\u001b[39;49;00m\n",
      "\u001b[1m\u001b[31mE       AssertionError\u001b[0m\n",
      "\n",
      "\u001b[1m\u001b[31miperf_test.py\u001b[0m:59: AssertionError\n",
      "----------------------------- Captured stdout call -----------------------------\n",
      "Headers of the output data: Interval, Transfer, Bitrate, Retr, Cwnd\n",
      "Percentage of matching conditions Transfer > 2 & Bitrate > 20:\t90.0%\n",
      "\u001b[31m\u001b[1m____________ TestSuite.test_iperf_client_traffic[127.0.0.1-client4] ____________\u001b[0m\n",
      "\n",
      "self = <iperf_test.TestSuite object at 0x7ffa17607220>\n",
      "ssh_client = <paramiko.client.SSHClient object at 0x7ffa15d06020>\n",
      "server = [None, None]\n",
      "client = ('Connecting to host 192.168.0.102, port 5201\\n[  5] local 192.168.0.102 port 57434 connected to 192.168.0.102 port 52...      sender\\n[  5]   0.00-50.04  sec   179 GBytes  30.7 Gbits/sec                  receiver\\n\\niperf Done.\\n', '', 50)\n",
      "\n",
      "    \u001b[94mdef\u001b[39;49;00m \u001b[92mtest_iperf_client_traffic\u001b[39;49;00m(\u001b[96mself\u001b[39;49;00m, ssh_client, server, client):\u001b[90m\u001b[39;49;00m\n",
      "        result, error, client_time = client\u001b[90m\u001b[39;49;00m\n",
      "    \u001b[90m\u001b[39;49;00m\n",
      "        \u001b[94massert\u001b[39;49;00m error \u001b[95min\u001b[39;49;00m [\u001b[33m\"\u001b[39;49;00m\u001b[33m\"\u001b[39;49;00m, \u001b[94mNone\u001b[39;49;00m]\u001b[90m\u001b[39;49;00m\n",
      "    \u001b[90m\u001b[39;49;00m\n",
      "        \u001b[90m# standard parser headers in the output\u001b[39;49;00m\u001b[90m\u001b[39;49;00m\n",
      "        result_table = parser(result, client_time, parser_headers)\u001b[90m\u001b[39;49;00m\n",
      "        condition_matches = result_table.loc[(result_table.Transfer > \u001b[94m2\u001b[39;49;00m) & (result_table.Bitrate > \u001b[94m20\u001b[39;49;00m), :]\u001b[90m\u001b[39;49;00m\n",
      "        \u001b[96mprint\u001b[39;49;00m(\u001b[33mf\u001b[39;49;00m\u001b[33m\"\u001b[39;49;00m\u001b[33mPercentage of matching conditions Transfer > 2 & Bitrate > 20:\u001b[39;49;00m\u001b[33m\\t\u001b[39;49;00m\u001b[33m\"\u001b[39;49;00m\u001b[90m\u001b[39;49;00m\n",
      "            \u001b[33mf\u001b[39;49;00m\u001b[33m\"\u001b[39;49;00m\u001b[33m{\u001b[39;49;00m\u001b[94m100\u001b[39;49;00m\u001b[90m \u001b[39;49;00m*\u001b[90m \u001b[39;49;00m\u001b[96mlen\u001b[39;49;00m(condition_matches.index)/\u001b[96mlen\u001b[39;49;00m(result_table.index)\u001b[33m}\u001b[39;49;00m\u001b[33m%\u001b[39;49;00m\u001b[33m\"\u001b[39;49;00m)\u001b[90m\u001b[39;49;00m\n",
      ">       \u001b[94massert\u001b[39;49;00m \u001b[96mlen\u001b[39;49;00m(condition_matches.index) == \u001b[96mlen\u001b[39;49;00m(result_table.index)\u001b[90m\u001b[39;49;00m\n",
      "\u001b[1m\u001b[31mE       AssertionError\u001b[0m\n",
      "\n",
      "\u001b[1m\u001b[31miperf_test.py\u001b[0m:59: AssertionError\n",
      "----------------------------- Captured stdout call -----------------------------\n",
      "Headers of the output data: Interval, Transfer, Bitrate, Retr, Cwnd\n",
      "Percentage of matching conditions Transfer > 2 & Bitrate > 20:\t96.0%\n",
      "\u001b[36m\u001b[1m=========================== short test summary info ============================\u001b[0m\n",
      "\u001b[31mFAILED\u001b[0m iperf_test.py::\u001b[1mTestSuite::test_iperf_client_traffic[::1-client3]\u001b[0m - AssertionError\n",
      "\u001b[31mFAILED\u001b[0m iperf_test.py::\u001b[1mTestSuite::test_iperf_client_traffic[127.0.0.1-client4]\u001b[0m - AssertionError\n",
      "\u001b[31m=================== \u001b[31m\u001b[1m2 failed\u001b[0m, \u001b[32m38 passed\u001b[0m\u001b[31m in 620.67s (0:10:20)\u001b[0m\u001b[31m ===================\u001b[0m\n"
     ]
    },
    {
     "data": {
      "text/plain": [
       "<ExitCode.TESTS_FAILED: 1>"
      ]
     },
     "execution_count": 5,
     "metadata": {},
     "output_type": "execute_result"
    }
   ],
   "source": [
    "# run tests and display output in verbose mode\n",
    "pytest.main([\"-v\"])"
   ]
  }
 ],
 "metadata": {
  "kernelspec": {
   "display_name": "Python 3 (ipykernel)",
   "language": "python",
   "name": "python3"
  },
  "language_info": {
   "codemirror_mode": {
    "name": "ipython",
    "version": 3
   },
   "file_extension": ".py",
   "mimetype": "text/x-python",
   "name": "python",
   "nbconvert_exporter": "python",
   "pygments_lexer": "ipython3",
   "version": "3.10.6"
  }
 },
 "nbformat": 4,
 "nbformat_minor": 5
}
